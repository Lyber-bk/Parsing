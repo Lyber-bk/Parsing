{
 "cells": [
  {
   "cell_type": "markdown",
   "metadata": {},
   "source": [
    "# 1. Написать приложение, которое собирает основные новости с сайтов \n",
    "\n",
    "    https://news.mail.ru, \n",
    "    https://lenta.ru, \n",
    "    https://yandex.ru/news. \n",
    "    \n",
    "## Для парсинга использовать XPath. Структура данных должна содержать:\n",
    "\n",
    "     название источника;\n",
    "     наименование новости;\n",
    "     ссылку на новость;\n",
    "     дата публикации.\n"
   ]
  },
  {
   "cell_type": "code",
   "execution_count": 1,
   "metadata": {},
   "outputs": [],
   "source": [
    "from pprint import pprint\n",
    "from lxml import html\n",
    "import requests\n",
    "import time"
   ]
  },
  {
   "cell_type": "code",
   "execution_count": 2,
   "metadata": {},
   "outputs": [],
   "source": [
    "header = {\n",
    "    'User-Agent': 'Mozilla/5.0 (X11; Linux x86_64) AppleWebKit/537.36 (KHTML, like Gecko) Chrome/92.0.4515.131 Safari/537.36'\n",
    "}"
   ]
  },
  {
   "cell_type": "markdown",
   "metadata": {},
   "source": [
    "# Mail"
   ]
  },
  {
   "cell_type": "code",
   "execution_count": 4,
   "metadata": {},
   "outputs": [],
   "source": [
    "mail_url = 'https://news.mail.ru'"
   ]
  },
  {
   "cell_type": "code",
   "execution_count": 5,
   "metadata": {},
   "outputs": [],
   "source": [
    "response = requests.get(mail_url, headers = header)    "
   ]
  },
  {
   "cell_type": "code",
   "execution_count": 6,
   "metadata": {},
   "outputs": [
    {
     "data": {
      "text/plain": [
       "<Response [200]>"
      ]
     },
     "execution_count": 6,
     "metadata": {},
     "output_type": "execute_result"
    }
   ],
   "source": [
    "response"
   ]
  },
  {
   "cell_type": "code",
   "execution_count": 7,
   "metadata": {},
   "outputs": [],
   "source": [
    "root = html.fromstring(response.text)"
   ]
  },
  {
   "cell_type": "code",
   "execution_count": 8,
   "metadata": {},
   "outputs": [
    {
     "data": {
      "text/plain": [
       "<Element html at 0x1528e88>"
      ]
     },
     "execution_count": 8,
     "metadata": {},
     "output_type": "execute_result"
    }
   ],
   "source": [
    "root"
   ]
  },
  {
   "cell_type": "code",
   "execution_count": 42,
   "metadata": {},
   "outputs": [],
   "source": [
    "news = root.xpath('//div[@class=\"block block_bg_primary block_separated_top js-module\"]')"
   ]
  },
  {
   "cell_type": "code",
   "execution_count": 43,
   "metadata": {},
   "outputs": [
    {
     "data": {
      "text/plain": [
       "[<Element div at 0x1542f00>]"
      ]
     },
     "execution_count": 43,
     "metadata": {},
     "output_type": "execute_result"
    }
   ],
   "source": [
    "news"
   ]
  },
  {
   "cell_type": "code",
   "execution_count": 46,
   "metadata": {},
   "outputs": [
    {
     "name": "stdout",
     "output_type": "stream",
     "text": [
      "Новость - ['Кремль: Путин в\\xa0послании Федеральному собранию даст оценку СВО', 'Песков ответил на заявления Нуланд о Крыме', 'Маска вызвали «на\\xa0ковер» по\\xa0поводу работы Starlink на\\xa0Украине', 'Лидер Чехии предостерег страны Запада от\\xa0попыток развалить РФ', 'МО сообщило об\\xa0ударах по\\xa0военным объектам в\\xa0Хмельницкой области', 'Пекин отказался мириться с\\xa0давлением США на\\xa0отношения РФ и\\xa0КНР']\n",
      "Ссылка - ['https://news.mail.ru/politics/55122347/?utm_source=block_popular', 'https://news.mail.ru/politics/55121065/?utm_source=block_popular', 'https://news.mail.ru/politics/55119713/?utm_source=block_popular', 'https://news.mail.ru/politics/55118903/?utm_source=block_popular', 'https://news.mail.ru/incident/55123036/?utm_source=block_popular', 'https://news.mail.ru/politics/55123243/?utm_source=block_popular']\n"
     ]
    }
   ],
   "source": [
    "for new in news:\n",
    "    herf = new.xpath(\".//span[@class='cell']/a/@href\")\n",
    "    title = new.xpath(\".//span[@class='cell']/a/span/text()\")\n",
    "    print(f'Новость - {title}\\nСсылка - {herf}')"
   ]
  }
 ],
 "metadata": {
  "kernelspec": {
   "display_name": "Python 3",
   "language": "python",
   "name": "python3"
  },
  "language_info": {
   "codemirror_mode": {
    "name": "ipython",
    "version": 3
   },
   "file_extension": ".py",
   "mimetype": "text/x-python",
   "name": "python",
   "nbconvert_exporter": "python",
   "pygments_lexer": "ipython3",
   "version": "3.8.5"
  }
 },
 "nbformat": 4,
 "nbformat_minor": 5
}
